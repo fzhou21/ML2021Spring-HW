{
  "nbformat": 4,
  "nbformat_minor": 0,
  "metadata": {
    "colab": {
      "name": "ML2021Spring - HW1.ipynb",
      "provenance": [],
      "include_colab_link": true
    },
    "kernelspec": {
      "name": "python3",
      "display_name": "Python 3"
    },
    "accelerator": "GPU"
  },
  "cells": [
    {
      "cell_type": "markdown",
      "metadata": {
        "id": "view-in-github",
        "colab_type": "text"
      },
      "source": [
        "<a href=\"https://colab.research.google.com/github/fzhou21/ML2021Spring-HW/blob/main/HW01/HW01.ipynb\" target=\"_parent\"><img src=\"https://colab.research.google.com/assets/colab-badge.svg\" alt=\"Open In Colab\"/></a>"
      ]
    },
    {
      "cell_type": "markdown",
      "metadata": {
        "id": "mz0_QVkxCrX3"
      },
      "source": [
        "# **Homework 1: COVID-19 Cases Prediction (Regression)**"
      ]
    },
    {
      "cell_type": "markdown",
      "metadata": {
        "id": "ZeZnPAiwDRWG"
      },
      "source": [
        "Author: Heng-Jui Chang\n",
        "\n",
        "Slides: https://github.com/ga642381/ML2021-Spring/blob/main/HW01/HW01.pdf  \n",
        "Videos (Mandarin): https://cool.ntu.edu.tw/courses/4793/modules/items/172854  \n",
        "https://cool.ntu.edu.tw/courses/4793/modules/items/172853  \n",
        "Video (English): https://cool.ntu.edu.tw/courses/4793/modules/items/176529\n",
        "\n",
        "\n",
        "Objectives:\n",
        "* Solve a regression problem with deep neural networks (DNN).\n",
        "* Understand basic DNN training tips.\n",
        "* Get familiar with PyTorch.\n",
        "\n",
        "If any questions, please contact the TAs via TA hours, NTU COOL, or email.\n"
      ]
    },
    {
      "cell_type": "markdown",
      "metadata": {
        "id": "Jx3x1nDkG-Uy"
      },
      "source": [
        "# **Download Data**\n",
        "\n",
        "\n",
        "If the Google drive links are dead, you can download data from [kaggle](https://www.kaggle.com/c/ml2021spring-hw1/data), and upload data manually to the workspace."
      ]
    },
    {
      "cell_type": "code",
      "metadata": {
        "colab": {
          "base_uri": "https://localhost:8080/"
        },
        "id": "tMj55YDKG6ch",
        "outputId": "113caec5-c652-482d-f50d-d724d06a5e13"
      },
      "source": [
        "tr_path = 'covid.train.csv'  # path to training data\n",
        "tt_path = 'covid.test.csv'   # path to testing data\n",
        "\n",
        "!gdown --id '19CCyCgJrUxtvgZF53vnctJiOJ23T5mqF' --output covid.train.csv\n",
        "!gdown --id '1CE240jLm2npU-tdz81-oVKEF3T2yfT1O' --output covid.test.csv"
      ],
      "execution_count": 1,
      "outputs": [
        {
          "output_type": "stream",
          "name": "stdout",
          "text": [
            "/usr/local/lib/python3.11/dist-packages/gdown/__main__.py:140: FutureWarning: Option `--id` was deprecated in version 4.3.1 and will be removed in 5.0. You don't need to pass it anymore to use a file ID.\n",
            "  warnings.warn(\n",
            "Downloading...\n",
            "From: https://drive.google.com/uc?id=19CCyCgJrUxtvgZF53vnctJiOJ23T5mqF\n",
            "To: /content/covid.train.csv\n",
            "100% 2.00M/2.00M [00:00<00:00, 17.7MB/s]\n",
            "/usr/local/lib/python3.11/dist-packages/gdown/__main__.py:140: FutureWarning: Option `--id` was deprecated in version 4.3.1 and will be removed in 5.0. You don't need to pass it anymore to use a file ID.\n",
            "  warnings.warn(\n",
            "Downloading...\n",
            "From: https://drive.google.com/uc?id=1CE240jLm2npU-tdz81-oVKEF3T2yfT1O\n",
            "To: /content/covid.test.csv\n",
            "100% 651k/651k [00:00<00:00, 8.79MB/s]\n"
          ]
        }
      ]
    },
    {
      "cell_type": "markdown",
      "metadata": {
        "id": "wS_4-77xHk44"
      },
      "source": [
        "# **Import Some Packages**"
      ]
    },
    {
      "cell_type": "code",
      "metadata": {
        "id": "k-onQd4JNA5H"
      },
      "source": [
        "# PyTorch\n",
        "import torch\n",
        "import torch.nn as nn\n",
        "from torch.utils.data import Dataset, DataLoader\n",
        "\n",
        "# For data preprocess\n",
        "import numpy as np\n",
        "import csv\n",
        "import os\n",
        "\n",
        "# For plotting\n",
        "import matplotlib.pyplot as plt\n",
        "from matplotlib.pyplot import figure\n",
        "\n",
        "myseed = 42069  # set a random seed for reproducibility\n",
        "torch.backends.cudnn.deterministic = True\n",
        "torch.backends.cudnn.benchmark = False\n",
        "np.random.seed(myseed)\n",
        "torch.manual_seed(myseed)\n",
        "if torch.cuda.is_available():\n",
        "    torch.cuda.manual_seed_all(myseed)"
      ],
      "execution_count": 2,
      "outputs": []
    },
    {
      "cell_type": "markdown",
      "metadata": {
        "id": "BtE3b6JEH7rw"
      },
      "source": [
        "# **Some Utilities**\n",
        "\n",
        "You do not need to modify this part."
      ]
    },
    {
      "cell_type": "code",
      "metadata": {
        "id": "FWMT3uf1NGQp"
      },
      "source": [
        "def get_device():\n",
        "    ''' Get device (if GPU is available, use GPU) '''\n",
        "    return 'cuda' if torch.cuda.is_available() else 'cpu'\n",
        "\n",
        "def plot_learning_curve(loss_record, title=''):\n",
        "    ''' Plot learning curve of your DNN (train & dev loss) '''\n",
        "    total_steps = len(loss_record['train'])\n",
        "    x_1 = range(total_steps)\n",
        "    x_2 = x_1[::len(loss_record['train']) // len(loss_record['dev'])]\n",
        "    figure(figsize=(6, 4))\n",
        "    plt.plot(x_1, loss_record['train'], c='tab:red', label='train')\n",
        "    plt.plot(x_2, loss_record['dev'], c='tab:cyan', label='dev')\n",
        "    plt.ylim(0.0, 5.)\n",
        "    plt.xlabel('Training steps')\n",
        "    plt.ylabel('MSE loss')\n",
        "    plt.title('Learning curve of {}'.format(title))\n",
        "    plt.legend()\n",
        "    plt.show()\n",
        "\n",
        "\n",
        "def plot_pred(dv_set, model, device, lim=35., preds=None, targets=None):\n",
        "    ''' Plot prediction of your DNN '''\n",
        "    if preds is None or targets is None:\n",
        "        model.eval()\n",
        "        preds, targets = [], []\n",
        "        for x, y in dv_set:\n",
        "            x, y = x.to(device), y.to(device)\n",
        "            with torch.no_grad():\n",
        "                pred = model(x)\n",
        "                preds.append(pred.detach().cpu())\n",
        "                targets.append(y.detach().cpu())\n",
        "        preds = torch.cat(preds, dim=0).numpy()\n",
        "        targets = torch.cat(targets, dim=0).numpy()\n",
        "\n",
        "    figure(figsize=(5, 5))\n",
        "    plt.scatter(targets, preds, c='r', alpha=0.5)\n",
        "    plt.plot([-0.2, lim], [-0.2, lim], c='b')\n",
        "    plt.xlim(-0.2, lim)\n",
        "    plt.ylim(-0.2, lim)\n",
        "    plt.xlabel('ground truth value')\n",
        "    plt.ylabel('predicted value')\n",
        "    plt.title('Ground Truth v.s. Prediction')\n",
        "    plt.show()"
      ],
      "execution_count": 3,
      "outputs": []
    },
    {
      "cell_type": "markdown",
      "metadata": {
        "id": "39U_XFX6KOoj"
      },
      "source": [
        "# **Preprocess**\n",
        "\n",
        "We have three kinds of datasets:\n",
        "* `train`: for training\n",
        "* `dev`: for validation\n",
        "* `test`: for testing (w/o target value)"
      ]
    },
    {
      "cell_type": "markdown",
      "metadata": {
        "id": "TQ-MdwpLL7Dt"
      },
      "source": [
        "## **Dataset**\n",
        "\n",
        "The `COVID19Dataset` below does:\n",
        "* read `.csv` files\n",
        "* extract features\n",
        "* split `covid.train.csv` into train/dev sets\n",
        "* normalize features\n",
        "\n",
        "Finishing `TODO` below might make you pass medium baseline."
      ]
    },
    {
      "cell_type": "code",
      "metadata": {
        "id": "0zlpIp9ANJRU"
      },
      "source": [
        "class COVID19Dataset(Dataset):\n",
        "    ''' Dataset for loading and preprocessing the COVID19 dataset '''\n",
        "    def __init__(self,\n",
        "                 path,\n",
        "                 mode='train',\n",
        "                 target_only=False):\n",
        "        self.mode = mode\n",
        "\n",
        "        # Read data into numpy arrays\n",
        "        with open(path, 'r') as fp:\n",
        "            data = list(csv.reader(fp))\n",
        "            data = np.array(data[1:])[:, 1:].astype(float)\n",
        "\n",
        "        if not target_only:\n",
        "            feats = list(range(93))\n",
        "        else:\n",
        "            # TODO: Using 40 states & 2 tested_positive features (indices = 57 & 75)\n",
        "            feats = list(range(40)) + [57,75] + [41] +[40+18,41+18] +[40+36,41+36]\n",
        "\n",
        "        if mode == 'test':\n",
        "            # Testing data\n",
        "            # data: 893 x 93 (40 states + day 1 (18) + day 2 (18) + day 3 (17))\n",
        "            data = data[:, feats]\n",
        "            self.data = torch.FloatTensor(data)\n",
        "        else:\n",
        "            # Training data (train/dev sets)\n",
        "            # data: 2700 x 94 (40 states + day 1 (18) + day 2 (18) + day 3 (18))\n",
        "            target = data[:, -1]\n",
        "            data = data[:, feats]\n",
        "\n",
        "            # Splitting training data into train & dev sets\n",
        "            if mode == 'train':\n",
        "                indices = [i for i in range(len(data)) if i % 10 != 0]\n",
        "            elif mode == 'dev':\n",
        "                indices = [i for i in range(len(data)) if i % 10 == 0]\n",
        "\n",
        "            # Convert data into PyTorch tensors\n",
        "            self.data = torch.FloatTensor(data[indices])\n",
        "            self.target = torch.FloatTensor(target[indices])\n",
        "\n",
        "        # Normalize features (you may remove this part to see what will happen)\n",
        "        self.data[:, 40:] = \\\n",
        "            (self.data[:, 40:] - self.data[:, 40:].mean(dim=0, keepdim=True)) \\\n",
        "            / self.data[:, 40:].std(dim=0, keepdim=True)\n",
        "\n",
        "        self.dim = self.data.shape[1]\n",
        "\n",
        "        print('Finished reading the {} set of COVID19 Dataset ({} samples found, each dim = {})'\n",
        "              .format(mode, len(self.data), self.dim))\n",
        "\n",
        "    def __getitem__(self, index):\n",
        "        # Returns one sample at a time\n",
        "        if self.mode in ['train', 'dev']:\n",
        "            # For training\n",
        "            return self.data[index], self.target[index]\n",
        "        else:\n",
        "            # For testing (no target)\n",
        "            return self.data[index]\n",
        "\n",
        "    def __len__(self):\n",
        "        # Returns the size of the dataset\n",
        "        return len(self.data)"
      ],
      "execution_count": 80,
      "outputs": []
    },
    {
      "cell_type": "markdown",
      "metadata": {
        "id": "AlhTlkE7MDo3"
      },
      "source": [
        "## **DataLoader**\n",
        "\n",
        "A `DataLoader` loads data from a given `Dataset` into batches.\n"
      ]
    },
    {
      "cell_type": "code",
      "metadata": {
        "id": "hlhLk5t6MBX3"
      },
      "source": [
        "def prep_dataloader(path, mode, batch_size, n_jobs=0, target_only=False):\n",
        "    ''' Generates a dataset, then is put into a dataloader. '''\n",
        "    dataset = COVID19Dataset(path, mode=mode, target_only=target_only)  # Construct dataset\n",
        "    dataloader = DataLoader(\n",
        "        dataset, batch_size,\n",
        "        shuffle=(mode == 'train'), drop_last=False,\n",
        "        num_workers=n_jobs, pin_memory=True)                            # Construct dataloader\n",
        "    return dataloader"
      ],
      "execution_count": 81,
      "outputs": []
    },
    {
      "cell_type": "markdown",
      "metadata": {
        "id": "SGuycwR0MeQB"
      },
      "source": [
        "# **Deep Neural Network**\n",
        "\n",
        "`NeuralNet` is an `nn.Module` designed for regression.\n",
        "The DNN consists of 2 fully-connected layers with ReLU activation.\n",
        "This module also included a function `cal_loss` for calculating loss.\n"
      ]
    },
    {
      "cell_type": "code",
      "metadata": {
        "id": "49-uXYovOAI0"
      },
      "source": [
        "class NeuralNet(nn.Module):\n",
        "    ''' A simple fully-connected deep neural network '''\n",
        "    def __init__(self, input_dim):\n",
        "        super(NeuralNet, self).__init__()\n",
        "        print(input_dim)\n",
        "        # Define your neural network here\n",
        "        # TODO: How to modify this model to achieve better performance?\n",
        "        self.net = nn.Sequential(\n",
        "            nn.Linear(input_dim, 16),\n",
        "            nn.ReLU(),\n",
        "            nn.Linear(16, 4),\n",
        "            nn.ReLU(),\n",
        "            nn.Linear(4, 1),\n",
        "        )\n",
        "\n",
        "        # Mean squared error loss\n",
        "        self.criterion = nn.MSELoss(reduction='mean')\n",
        "\n",
        "    def forward(self, x):\n",
        "        ''' Given input of size (batch_size x input_dim), compute output of the network '''\n",
        "        return self.net(x).squeeze(1)\n",
        "\n",
        "    def cal_loss(self, pred, target):\n",
        "        ''' Calculate loss '''\n",
        "        # l2_lambda = 0.01\n",
        "        # l2_norm = sum(p.pow(2.0).sum()\n",
        "        # for p in self.net.parameters() if p.requires_grad and len(p.shape) > 1)\n",
        "\n",
        "        l2_lambda=0\n",
        "        l2_norm=0\n",
        "        mse_loss = self.criterion(pred, target)  # Calculate MSE loss\n",
        "        rmse_loss = torch.sqrt(mse_loss)  # Calculate RMSE loss\n",
        "\n",
        "        return rmse_loss + l2_lambda * l2_norm  # Return RMSE loss + L2 regularization term"
      ],
      "execution_count": 212,
      "outputs": []
    },
    {
      "cell_type": "markdown",
      "metadata": {
        "id": "DvFWVjZ5Nvga"
      },
      "source": [
        "# **Train/Dev/Test**"
      ]
    },
    {
      "cell_type": "markdown",
      "metadata": {
        "id": "MAM8QecJOyqn"
      },
      "source": [
        "## **Training**"
      ]
    },
    {
      "cell_type": "code",
      "metadata": {
        "id": "lOqcmYzMO7jB"
      },
      "source": [
        "def train(tr_set, dv_set, model, config, device):\n",
        "    ''' DNN training '''\n",
        "\n",
        "    n_epochs = config['n_epochs']  # Maximum number of epochs\n",
        "\n",
        "    # Setup optimizer\n",
        "    optimizer = getattr(torch.optim, config['optimizer'])(\n",
        "        model.parameters(), **config['optim_hparas'])\n",
        "\n",
        "    min_mse = 1000.\n",
        "    loss_record = {'train': [], 'dev': []}      # for recording training loss\n",
        "    early_stop_cnt = 0\n",
        "    epoch = 0\n",
        "    while epoch < n_epochs:\n",
        "        model.train()                           # set model to training mode\n",
        "        for x, y in tr_set:                     # iterate through the dataloader\n",
        "            optimizer.zero_grad()               # set gradient to zero\n",
        "            x, y = x.to(device), y.to(device)   # move data to device (cpu/cuda)\n",
        "            pred = model(x)                     # forward pass (compute output)\n",
        "            mse_loss = model.cal_loss(pred, y)  # compute loss\n",
        "            mse_loss.backward()                 # compute gradient (backpropagation)\n",
        "            optimizer.step()                    # update model with optimizer\n",
        "            loss_record['train'].append(mse_loss.detach().cpu().item())\n",
        "\n",
        "        # After each epoch, test your model on the validation (development) set.\n",
        "        dev_mse = dev(dv_set, model, device)\n",
        "        if dev_mse < min_mse:\n",
        "            # Save model if your model improved\n",
        "            min_mse = dev_mse\n",
        "            print('Saving model (epoch = {:4d}, loss = {:.4f})'\n",
        "                .format(epoch + 1, min_mse))\n",
        "            torch.save(model.state_dict(), config['save_path'])  # Save model to specified path\n",
        "            early_stop_cnt = 0\n",
        "        else:\n",
        "            early_stop_cnt += 1\n",
        "\n",
        "        epoch += 1\n",
        "        loss_record['dev'].append(dev_mse)\n",
        "        if early_stop_cnt > config['early_stop']:\n",
        "            # Stop training if your model stops improving for \"config['early_stop']\" epochs.\n",
        "            break\n",
        "\n",
        "    print('Finished training after {} epochs'.format(epoch))\n",
        "    return min_mse, loss_record"
      ],
      "execution_count": 179,
      "outputs": []
    },
    {
      "cell_type": "markdown",
      "metadata": {
        "id": "0hSd4Bn3O2PL"
      },
      "source": [
        "## **Validation**"
      ]
    },
    {
      "cell_type": "code",
      "metadata": {
        "id": "yrxrD3YsN3U2"
      },
      "source": [
        "def dev(dv_set, model, device):\n",
        "    model.eval()                                # set model to evalutation mode\n",
        "    total_loss = 0\n",
        "    for x, y in dv_set:                         # iterate through the dataloader\n",
        "        x, y = x.to(device), y.to(device)       # move data to device (cpu/cuda)\n",
        "        with torch.no_grad():                   # disable gradient calculation\n",
        "            pred = model(x)                     # forward pass (compute output)\n",
        "            mse_loss = model.cal_loss(pred, y)  # compute loss\n",
        "        total_loss += mse_loss.detach().cpu().item() * len(x)  # accumulate loss\n",
        "    total_loss = total_loss / len(dv_set.dataset)              # compute averaged loss\n",
        "\n",
        "    return total_loss"
      ],
      "execution_count": 180,
      "outputs": []
    },
    {
      "cell_type": "markdown",
      "metadata": {
        "id": "g0pdrhQAO41L"
      },
      "source": [
        "## **Testing**"
      ]
    },
    {
      "cell_type": "code",
      "metadata": {
        "id": "aSBMRFlYN5tB"
      },
      "source": [
        "def test(tt_set, model, device):\n",
        "    model.eval()                                # set model to evalutation mode\n",
        "    preds = []\n",
        "    for x in tt_set:                            # iterate through the dataloader\n",
        "        x = x.to(device)                        # move data to device (cpu/cuda)\n",
        "        with torch.no_grad():                   # disable gradient calculation\n",
        "            pred = model(x)                     # forward pass (compute output)\n",
        "            preds.append(pred.detach().cpu())   # collect prediction\n",
        "    preds = torch.cat(preds, dim=0).numpy()     # concatenate all predictions and convert to a numpy array\n",
        "    return preds"
      ],
      "execution_count": 181,
      "outputs": []
    },
    {
      "cell_type": "markdown",
      "metadata": {
        "id": "SvckkF5dvf0j"
      },
      "source": [
        "# **Setup Hyper-parameters**\n",
        "\n",
        "`config` contains hyper-parameters for training and the path to save your model."
      ]
    },
    {
      "cell_type": "code",
      "metadata": {
        "id": "NPXpdumwPjE7",
        "outputId": "6d8bc3bc-76c7-4596-d5aa-e3568586094e",
        "colab": {
          "base_uri": "https://localhost:8080/"
        }
      },
      "source": [
        "device = get_device()                 # get the current available device ('cpu' or 'cuda')\n",
        "print(device)\n",
        "os.makedirs('models', exist_ok=True)  # The trained model will be saved to ./models/\n",
        "target_only = True                   # TODO: Using 40 states & 2 tested_positive features\n",
        "\n",
        "# TODO: How to tune these hyper-parameters to improve your model's performance?\n",
        "config = {\n",
        "    'n_epochs': 3000,                # maximum number of epochs\n",
        "    'batch_size': 16,               # mini-batch size for dataloader\n",
        "    'optimizer': 'Adam',              # optimization algorithm (optimizer in torch.optim)\n",
        "    'optim_hparas': {                # hyper-parameters for the optimizer (depends on which optimizer you are using)\n",
        "        'lr': 5e-5,                 # learning rate of SGD\n",
        "        # 'momentum': 0.9              # momentum for SGD\n",
        "    },\n",
        "    'early_stop': 200,               # early stopping epochs (the number epochs since your model's last improvement)\n",
        "    'save_path': 'models/model.pth'  # your model will be saved here\n",
        "}"
      ],
      "execution_count": 221,
      "outputs": [
        {
          "output_type": "stream",
          "name": "stdout",
          "text": [
            "cuda\n"
          ]
        }
      ]
    },
    {
      "cell_type": "markdown",
      "metadata": {
        "id": "6j1eOV3TOH-j"
      },
      "source": [
        "# **Load data and model**"
      ]
    },
    {
      "cell_type": "code",
      "metadata": {
        "colab": {
          "base_uri": "https://localhost:8080/"
        },
        "id": "eNrYBMmePLKm",
        "outputId": "33858bfd-43bb-4817-f436-99ea7f2852a8"
      },
      "source": [
        "tr_set = prep_dataloader(tr_path, 'train', config['batch_size'], target_only=target_only)\n",
        "dv_set = prep_dataloader(tr_path, 'dev', config['batch_size'], target_only=target_only)\n",
        "tt_set = prep_dataloader(tt_path, 'test', config['batch_size'], target_only=target_only)"
      ],
      "execution_count": 222,
      "outputs": [
        {
          "output_type": "stream",
          "name": "stdout",
          "text": [
            "Finished reading the train set of COVID19 Dataset (2430 samples found, each dim = 47)\n",
            "Finished reading the dev set of COVID19 Dataset (270 samples found, each dim = 47)\n",
            "Finished reading the test set of COVID19 Dataset (893 samples found, each dim = 47)\n"
          ]
        }
      ]
    },
    {
      "cell_type": "code",
      "metadata": {
        "id": "FHylSirLP9oh",
        "colab": {
          "base_uri": "https://localhost:8080/"
        },
        "outputId": "5d5155c1-2323-4918-92e7-f7b8e4efcafb"
      },
      "source": [
        "model = NeuralNet(tr_set.dataset.dim).to(device)  # Construct model and move to device"
      ],
      "execution_count": 223,
      "outputs": [
        {
          "output_type": "stream",
          "name": "stdout",
          "text": [
            "47\n"
          ]
        }
      ]
    },
    {
      "cell_type": "markdown",
      "metadata": {
        "id": "sX2B_zgSOPTJ"
      },
      "source": [
        "# **Start Training!**"
      ]
    },
    {
      "cell_type": "code",
      "metadata": {
        "colab": {
          "base_uri": "https://localhost:8080/"
        },
        "id": "GrEbUxazQAAZ",
        "outputId": "20670dca-4a15-4550-c383-c891738c4e36"
      },
      "source": [
        "model_loss, model_loss_record = train(tr_set, dv_set, model, config, device)"
      ],
      "execution_count": 224,
      "outputs": [
        {
          "output_type": "stream",
          "name": "stdout",
          "text": [
            "Saving model (epoch =    1, loss = 17.9014)\n",
            "Saving model (epoch =    2, loss = 17.8745)\n",
            "Saving model (epoch =    3, loss = 17.8296)\n",
            "Saving model (epoch =    4, loss = 17.7777)\n",
            "Saving model (epoch =    5, loss = 17.7129)\n",
            "Saving model (epoch =    6, loss = 17.6256)\n",
            "Saving model (epoch =    7, loss = 17.5263)\n",
            "Saving model (epoch =    8, loss = 17.4162)\n",
            "Saving model (epoch =    9, loss = 17.2863)\n",
            "Saving model (epoch =   10, loss = 17.1336)\n",
            "Saving model (epoch =   11, loss = 16.9528)\n",
            "Saving model (epoch =   12, loss = 16.7489)\n",
            "Saving model (epoch =   13, loss = 16.5279)\n",
            "Saving model (epoch =   14, loss = 16.2908)\n",
            "Saving model (epoch =   15, loss = 16.0339)\n",
            "Saving model (epoch =   16, loss = 15.7607)\n",
            "Saving model (epoch =   17, loss = 15.4680)\n",
            "Saving model (epoch =   18, loss = 15.1535)\n",
            "Saving model (epoch =   19, loss = 14.8208)\n",
            "Saving model (epoch =   20, loss = 14.4719)\n",
            "Saving model (epoch =   21, loss = 14.1063)\n",
            "Saving model (epoch =   22, loss = 13.7267)\n",
            "Saving model (epoch =   23, loss = 13.3346)\n",
            "Saving model (epoch =   24, loss = 12.9284)\n",
            "Saving model (epoch =   25, loss = 12.5163)\n",
            "Saving model (epoch =   26, loss = 12.0975)\n",
            "Saving model (epoch =   27, loss = 11.6680)\n",
            "Saving model (epoch =   28, loss = 11.2333)\n",
            "Saving model (epoch =   29, loss = 10.7941)\n",
            "Saving model (epoch =   30, loss = 10.3635)\n",
            "Saving model (epoch =   31, loss = 9.9433)\n",
            "Saving model (epoch =   32, loss = 9.5375)\n",
            "Saving model (epoch =   33, loss = 9.1546)\n",
            "Saving model (epoch =   34, loss = 8.7961)\n",
            "Saving model (epoch =   35, loss = 8.4742)\n",
            "Saving model (epoch =   36, loss = 8.1872)\n",
            "Saving model (epoch =   37, loss = 7.9371)\n",
            "Saving model (epoch =   38, loss = 7.7227)\n",
            "Saving model (epoch =   39, loss = 7.5410)\n",
            "Saving model (epoch =   40, loss = 7.3853)\n",
            "Saving model (epoch =   41, loss = 7.2471)\n",
            "Saving model (epoch =   42, loss = 7.1231)\n",
            "Saving model (epoch =   43, loss = 7.0044)\n",
            "Saving model (epoch =   44, loss = 6.8890)\n",
            "Saving model (epoch =   45, loss = 6.7751)\n",
            "Saving model (epoch =   46, loss = 6.6609)\n",
            "Saving model (epoch =   47, loss = 6.5429)\n",
            "Saving model (epoch =   48, loss = 6.4210)\n",
            "Saving model (epoch =   49, loss = 6.2968)\n",
            "Saving model (epoch =   50, loss = 6.1704)\n",
            "Saving model (epoch =   51, loss = 6.0418)\n",
            "Saving model (epoch =   52, loss = 5.9092)\n",
            "Saving model (epoch =   53, loss = 5.7733)\n",
            "Saving model (epoch =   54, loss = 5.6342)\n",
            "Saving model (epoch =   55, loss = 5.4907)\n",
            "Saving model (epoch =   56, loss = 5.3316)\n",
            "Saving model (epoch =   57, loss = 5.1753)\n",
            "Saving model (epoch =   58, loss = 5.0165)\n",
            "Saving model (epoch =   59, loss = 4.8544)\n",
            "Saving model (epoch =   60, loss = 4.6875)\n",
            "Saving model (epoch =   61, loss = 4.5174)\n",
            "Saving model (epoch =   62, loss = 4.3422)\n",
            "Saving model (epoch =   63, loss = 4.1653)\n",
            "Saving model (epoch =   64, loss = 3.9870)\n",
            "Saving model (epoch =   65, loss = 3.8055)\n",
            "Saving model (epoch =   66, loss = 3.6224)\n",
            "Saving model (epoch =   67, loss = 3.4390)\n",
            "Saving model (epoch =   68, loss = 3.2573)\n",
            "Saving model (epoch =   69, loss = 3.0794)\n",
            "Saving model (epoch =   70, loss = 2.9058)\n",
            "Saving model (epoch =   71, loss = 2.7407)\n",
            "Saving model (epoch =   72, loss = 2.5858)\n",
            "Saving model (epoch =   73, loss = 2.4454)\n",
            "Saving model (epoch =   74, loss = 2.3168)\n",
            "Saving model (epoch =   75, loss = 2.1996)\n",
            "Saving model (epoch =   76, loss = 2.0956)\n",
            "Saving model (epoch =   77, loss = 2.0058)\n",
            "Saving model (epoch =   78, loss = 1.9252)\n",
            "Saving model (epoch =   79, loss = 1.8552)\n",
            "Saving model (epoch =   80, loss = 1.7946)\n",
            "Saving model (epoch =   81, loss = 1.7421)\n",
            "Saving model (epoch =   82, loss = 1.6965)\n",
            "Saving model (epoch =   83, loss = 1.6553)\n",
            "Saving model (epoch =   84, loss = 1.6184)\n",
            "Saving model (epoch =   85, loss = 1.5854)\n",
            "Saving model (epoch =   86, loss = 1.5535)\n",
            "Saving model (epoch =   87, loss = 1.5238)\n",
            "Saving model (epoch =   88, loss = 1.4969)\n",
            "Saving model (epoch =   89, loss = 1.4712)\n",
            "Saving model (epoch =   90, loss = 1.4482)\n",
            "Saving model (epoch =   91, loss = 1.4273)\n",
            "Saving model (epoch =   92, loss = 1.4065)\n",
            "Saving model (epoch =   93, loss = 1.3902)\n",
            "Saving model (epoch =   94, loss = 1.3722)\n",
            "Saving model (epoch =   95, loss = 1.3552)\n",
            "Saving model (epoch =   96, loss = 1.3398)\n",
            "Saving model (epoch =   97, loss = 1.3256)\n",
            "Saving model (epoch =   98, loss = 1.3139)\n",
            "Saving model (epoch =   99, loss = 1.3009)\n",
            "Saving model (epoch =  100, loss = 1.2886)\n",
            "Saving model (epoch =  101, loss = 1.2775)\n",
            "Saving model (epoch =  102, loss = 1.2677)\n",
            "Saving model (epoch =  103, loss = 1.2563)\n",
            "Saving model (epoch =  104, loss = 1.2466)\n",
            "Saving model (epoch =  105, loss = 1.2376)\n",
            "Saving model (epoch =  106, loss = 1.2297)\n",
            "Saving model (epoch =  107, loss = 1.2207)\n",
            "Saving model (epoch =  108, loss = 1.2135)\n",
            "Saving model (epoch =  109, loss = 1.2074)\n",
            "Saving model (epoch =  110, loss = 1.1994)\n",
            "Saving model (epoch =  111, loss = 1.1937)\n",
            "Saving model (epoch =  112, loss = 1.1874)\n",
            "Saving model (epoch =  113, loss = 1.1801)\n",
            "Saving model (epoch =  114, loss = 1.1751)\n",
            "Saving model (epoch =  115, loss = 1.1704)\n",
            "Saving model (epoch =  116, loss = 1.1637)\n",
            "Saving model (epoch =  117, loss = 1.1589)\n",
            "Saving model (epoch =  118, loss = 1.1551)\n",
            "Saving model (epoch =  119, loss = 1.1504)\n",
            "Saving model (epoch =  120, loss = 1.1465)\n",
            "Saving model (epoch =  121, loss = 1.1424)\n",
            "Saving model (epoch =  122, loss = 1.1402)\n",
            "Saving model (epoch =  123, loss = 1.1357)\n",
            "Saving model (epoch =  124, loss = 1.1321)\n",
            "Saving model (epoch =  125, loss = 1.1297)\n",
            "Saving model (epoch =  126, loss = 1.1256)\n",
            "Saving model (epoch =  127, loss = 1.1229)\n",
            "Saving model (epoch =  128, loss = 1.1202)\n",
            "Saving model (epoch =  129, loss = 1.1188)\n",
            "Saving model (epoch =  131, loss = 1.1118)\n",
            "Saving model (epoch =  132, loss = 1.1104)\n",
            "Saving model (epoch =  133, loss = 1.1104)\n",
            "Saving model (epoch =  134, loss = 1.1041)\n",
            "Saving model (epoch =  135, loss = 1.1021)\n",
            "Saving model (epoch =  137, loss = 1.0986)\n",
            "Saving model (epoch =  138, loss = 1.0949)\n",
            "Saving model (epoch =  139, loss = 1.0919)\n",
            "Saving model (epoch =  140, loss = 1.0904)\n",
            "Saving model (epoch =  141, loss = 1.0899)\n",
            "Saving model (epoch =  142, loss = 1.0875)\n",
            "Saving model (epoch =  143, loss = 1.0843)\n",
            "Saving model (epoch =  144, loss = 1.0842)\n",
            "Saving model (epoch =  145, loss = 1.0815)\n",
            "Saving model (epoch =  146, loss = 1.0779)\n",
            "Saving model (epoch =  147, loss = 1.0764)\n",
            "Saving model (epoch =  148, loss = 1.0748)\n",
            "Saving model (epoch =  150, loss = 1.0719)\n",
            "Saving model (epoch =  151, loss = 1.0686)\n",
            "Saving model (epoch =  152, loss = 1.0679)\n",
            "Saving model (epoch =  153, loss = 1.0671)\n",
            "Saving model (epoch =  154, loss = 1.0641)\n",
            "Saving model (epoch =  156, loss = 1.0630)\n",
            "Saving model (epoch =  157, loss = 1.0605)\n",
            "Saving model (epoch =  158, loss = 1.0590)\n",
            "Saving model (epoch =  159, loss = 1.0590)\n",
            "Saving model (epoch =  160, loss = 1.0563)\n",
            "Saving model (epoch =  161, loss = 1.0544)\n",
            "Saving model (epoch =  163, loss = 1.0539)\n",
            "Saving model (epoch =  164, loss = 1.0537)\n",
            "Saving model (epoch =  165, loss = 1.0521)\n",
            "Saving model (epoch =  166, loss = 1.0500)\n",
            "Saving model (epoch =  167, loss = 1.0499)\n",
            "Saving model (epoch =  168, loss = 1.0479)\n",
            "Saving model (epoch =  169, loss = 1.0457)\n",
            "Saving model (epoch =  171, loss = 1.0440)\n",
            "Saving model (epoch =  172, loss = 1.0434)\n",
            "Saving model (epoch =  173, loss = 1.0430)\n",
            "Saving model (epoch =  174, loss = 1.0423)\n",
            "Saving model (epoch =  175, loss = 1.0410)\n",
            "Saving model (epoch =  177, loss = 1.0391)\n",
            "Saving model (epoch =  178, loss = 1.0378)\n",
            "Saving model (epoch =  179, loss = 1.0355)\n",
            "Saving model (epoch =  180, loss = 1.0345)\n",
            "Saving model (epoch =  181, loss = 1.0320)\n",
            "Saving model (epoch =  182, loss = 1.0313)\n",
            "Saving model (epoch =  183, loss = 1.0307)\n",
            "Saving model (epoch =  184, loss = 1.0303)\n",
            "Saving model (epoch =  185, loss = 1.0293)\n",
            "Saving model (epoch =  186, loss = 1.0262)\n",
            "Saving model (epoch =  187, loss = 1.0260)\n",
            "Saving model (epoch =  188, loss = 1.0242)\n",
            "Saving model (epoch =  190, loss = 1.0215)\n",
            "Saving model (epoch =  191, loss = 1.0213)\n",
            "Saving model (epoch =  192, loss = 1.0206)\n",
            "Saving model (epoch =  193, loss = 1.0192)\n",
            "Saving model (epoch =  194, loss = 1.0180)\n",
            "Saving model (epoch =  195, loss = 1.0166)\n",
            "Saving model (epoch =  196, loss = 1.0150)\n",
            "Saving model (epoch =  198, loss = 1.0139)\n",
            "Saving model (epoch =  199, loss = 1.0128)\n",
            "Saving model (epoch =  200, loss = 1.0108)\n",
            "Saving model (epoch =  202, loss = 1.0091)\n",
            "Saving model (epoch =  203, loss = 1.0079)\n",
            "Saving model (epoch =  204, loss = 1.0078)\n",
            "Saving model (epoch =  205, loss = 1.0074)\n",
            "Saving model (epoch =  206, loss = 1.0047)\n",
            "Saving model (epoch =  208, loss = 1.0040)\n",
            "Saving model (epoch =  209, loss = 1.0029)\n",
            "Saving model (epoch =  210, loss = 1.0014)\n",
            "Saving model (epoch =  211, loss = 0.9992)\n",
            "Saving model (epoch =  214, loss = 0.9985)\n",
            "Saving model (epoch =  215, loss = 0.9973)\n",
            "Saving model (epoch =  217, loss = 0.9957)\n",
            "Saving model (epoch =  219, loss = 0.9952)\n",
            "Saving model (epoch =  221, loss = 0.9911)\n",
            "Saving model (epoch =  224, loss = 0.9904)\n",
            "Saving model (epoch =  226, loss = 0.9880)\n",
            "Saving model (epoch =  227, loss = 0.9862)\n",
            "Saving model (epoch =  228, loss = 0.9861)\n",
            "Saving model (epoch =  230, loss = 0.9849)\n",
            "Saving model (epoch =  231, loss = 0.9842)\n",
            "Saving model (epoch =  233, loss = 0.9817)\n",
            "Saving model (epoch =  237, loss = 0.9797)\n",
            "Saving model (epoch =  238, loss = 0.9793)\n",
            "Saving model (epoch =  239, loss = 0.9792)\n",
            "Saving model (epoch =  240, loss = 0.9784)\n",
            "Saving model (epoch =  242, loss = 0.9766)\n",
            "Saving model (epoch =  243, loss = 0.9746)\n",
            "Saving model (epoch =  248, loss = 0.9734)\n",
            "Saving model (epoch =  249, loss = 0.9733)\n",
            "Saving model (epoch =  253, loss = 0.9712)\n",
            "Saving model (epoch =  254, loss = 0.9706)\n",
            "Saving model (epoch =  256, loss = 0.9694)\n",
            "Saving model (epoch =  259, loss = 0.9684)\n",
            "Saving model (epoch =  260, loss = 0.9680)\n",
            "Saving model (epoch =  261, loss = 0.9673)\n",
            "Saving model (epoch =  267, loss = 0.9629)\n",
            "Saving model (epoch =  270, loss = 0.9616)\n",
            "Saving model (epoch =  273, loss = 0.9611)\n",
            "Saving model (epoch =  276, loss = 0.9589)\n",
            "Saving model (epoch =  281, loss = 0.9570)\n",
            "Saving model (epoch =  283, loss = 0.9565)\n",
            "Saving model (epoch =  287, loss = 0.9564)\n",
            "Saving model (epoch =  288, loss = 0.9552)\n",
            "Saving model (epoch =  289, loss = 0.9549)\n",
            "Saving model (epoch =  290, loss = 0.9540)\n",
            "Saving model (epoch =  293, loss = 0.9536)\n",
            "Saving model (epoch =  294, loss = 0.9524)\n",
            "Saving model (epoch =  298, loss = 0.9510)\n",
            "Saving model (epoch =  300, loss = 0.9495)\n",
            "Saving model (epoch =  301, loss = 0.9492)\n",
            "Saving model (epoch =  305, loss = 0.9475)\n",
            "Saving model (epoch =  306, loss = 0.9467)\n",
            "Saving model (epoch =  310, loss = 0.9446)\n",
            "Saving model (epoch =  311, loss = 0.9445)\n",
            "Saving model (epoch =  315, loss = 0.9423)\n",
            "Saving model (epoch =  323, loss = 0.9416)\n",
            "Saving model (epoch =  325, loss = 0.9413)\n",
            "Saving model (epoch =  326, loss = 0.9410)\n",
            "Saving model (epoch =  327, loss = 0.9405)\n",
            "Saving model (epoch =  328, loss = 0.9391)\n",
            "Saving model (epoch =  331, loss = 0.9379)\n",
            "Saving model (epoch =  332, loss = 0.9379)\n",
            "Saving model (epoch =  336, loss = 0.9355)\n",
            "Saving model (epoch =  340, loss = 0.9353)\n",
            "Saving model (epoch =  342, loss = 0.9344)\n",
            "Saving model (epoch =  345, loss = 0.9342)\n",
            "Saving model (epoch =  347, loss = 0.9332)\n",
            "Saving model (epoch =  349, loss = 0.9328)\n",
            "Saving model (epoch =  350, loss = 0.9316)\n",
            "Saving model (epoch =  355, loss = 0.9312)\n",
            "Saving model (epoch =  357, loss = 0.9311)\n",
            "Saving model (epoch =  358, loss = 0.9303)\n",
            "Saving model (epoch =  359, loss = 0.9299)\n",
            "Saving model (epoch =  360, loss = 0.9288)\n",
            "Saving model (epoch =  364, loss = 0.9287)\n",
            "Saving model (epoch =  367, loss = 0.9281)\n",
            "Saving model (epoch =  368, loss = 0.9279)\n",
            "Saving model (epoch =  373, loss = 0.9268)\n",
            "Saving model (epoch =  374, loss = 0.9268)\n",
            "Saving model (epoch =  377, loss = 0.9255)\n",
            "Saving model (epoch =  378, loss = 0.9238)\n",
            "Saving model (epoch =  380, loss = 0.9226)\n",
            "Saving model (epoch =  383, loss = 0.9218)\n",
            "Saving model (epoch =  390, loss = 0.9206)\n",
            "Saving model (epoch =  399, loss = 0.9196)\n",
            "Saving model (epoch =  402, loss = 0.9193)\n",
            "Saving model (epoch =  404, loss = 0.9188)\n",
            "Saving model (epoch =  412, loss = 0.9178)\n",
            "Saving model (epoch =  416, loss = 0.9172)\n",
            "Saving model (epoch =  417, loss = 0.9171)\n",
            "Saving model (epoch =  419, loss = 0.9165)\n",
            "Saving model (epoch =  423, loss = 0.9151)\n",
            "Saving model (epoch =  428, loss = 0.9148)\n",
            "Saving model (epoch =  430, loss = 0.9141)\n",
            "Saving model (epoch =  432, loss = 0.9133)\n",
            "Saving model (epoch =  441, loss = 0.9130)\n",
            "Saving model (epoch =  443, loss = 0.9128)\n",
            "Saving model (epoch =  446, loss = 0.9126)\n",
            "Saving model (epoch =  447, loss = 0.9116)\n",
            "Saving model (epoch =  449, loss = 0.9110)\n",
            "Saving model (epoch =  456, loss = 0.9108)\n",
            "Saving model (epoch =  460, loss = 0.9106)\n",
            "Saving model (epoch =  463, loss = 0.9097)\n",
            "Saving model (epoch =  470, loss = 0.9086)\n",
            "Saving model (epoch =  471, loss = 0.9085)\n",
            "Saving model (epoch =  473, loss = 0.9081)\n",
            "Saving model (epoch =  484, loss = 0.9076)\n",
            "Saving model (epoch =  486, loss = 0.9075)\n",
            "Saving model (epoch =  487, loss = 0.9069)\n",
            "Saving model (epoch =  490, loss = 0.9069)\n",
            "Saving model (epoch =  491, loss = 0.9061)\n",
            "Saving model (epoch =  492, loss = 0.9061)\n",
            "Saving model (epoch =  494, loss = 0.9051)\n",
            "Saving model (epoch =  499, loss = 0.9050)\n",
            "Saving model (epoch =  510, loss = 0.9038)\n",
            "Saving model (epoch =  517, loss = 0.9029)\n",
            "Saving model (epoch =  533, loss = 0.9025)\n",
            "Saving model (epoch =  535, loss = 0.9022)\n",
            "Saving model (epoch =  542, loss = 0.9018)\n",
            "Saving model (epoch =  548, loss = 0.9017)\n",
            "Saving model (epoch =  551, loss = 0.9016)\n",
            "Saving model (epoch =  556, loss = 0.9011)\n",
            "Saving model (epoch =  557, loss = 0.9010)\n",
            "Saving model (epoch =  574, loss = 0.9009)\n",
            "Saving model (epoch =  577, loss = 0.8990)\n",
            "Saving model (epoch =  595, loss = 0.8989)\n",
            "Saving model (epoch =  611, loss = 0.8986)\n",
            "Saving model (epoch =  630, loss = 0.8981)\n",
            "Saving model (epoch =  645, loss = 0.8978)\n",
            "Saving model (epoch =  655, loss = 0.8968)\n",
            "Saving model (epoch =  688, loss = 0.8966)\n",
            "Saving model (epoch =  701, loss = 0.8963)\n",
            "Saving model (epoch =  726, loss = 0.8957)\n",
            "Saving model (epoch =  745, loss = 0.8944)\n",
            "Saving model (epoch =  812, loss = 0.8941)\n",
            "Saving model (epoch =  817, loss = 0.8933)\n",
            "Saving model (epoch =  862, loss = 0.8931)\n",
            "Saving model (epoch =  899, loss = 0.8927)\n",
            "Saving model (epoch =  952, loss = 0.8926)\n",
            "Saving model (epoch =  978, loss = 0.8924)\n",
            "Saving model (epoch = 1021, loss = 0.8924)\n",
            "Saving model (epoch = 1045, loss = 0.8917)\n",
            "Saving model (epoch = 1093, loss = 0.8907)\n",
            "Saving model (epoch = 1149, loss = 0.8907)\n",
            "Saving model (epoch = 1238, loss = 0.8905)\n",
            "Saving model (epoch = 1255, loss = 0.8890)\n",
            "Saving model (epoch = 1300, loss = 0.8890)\n",
            "Saving model (epoch = 1347, loss = 0.8886)\n",
            "Saving model (epoch = 1391, loss = 0.8881)\n",
            "Saving model (epoch = 1392, loss = 0.8880)\n",
            "Saving model (epoch = 1455, loss = 0.8877)\n",
            "Saving model (epoch = 1468, loss = 0.8876)\n",
            "Saving model (epoch = 1500, loss = 0.8870)\n",
            "Saving model (epoch = 1672, loss = 0.8869)\n",
            "Saving model (epoch = 1717, loss = 0.8867)\n",
            "Saving model (epoch = 1730, loss = 0.8859)\n",
            "Saving model (epoch = 1854, loss = 0.8855)\n",
            "Saving model (epoch = 1916, loss = 0.8854)\n",
            "Saving model (epoch = 1947, loss = 0.8851)\n",
            "Finished training after 2148 epochs\n"
          ]
        }
      ]
    },
    {
      "cell_type": "code",
      "metadata": {
        "colab": {
          "base_uri": "https://localhost:8080/",
          "height": 410
        },
        "id": "hsNO9nnXQBvP",
        "outputId": "c903fafc-c7b8-4e61-aca3-c4f91200a969"
      },
      "source": [
        "plot_learning_curve(model_loss_record, title='deep model')"
      ],
      "execution_count": 225,
      "outputs": [
        {
          "output_type": "display_data",
          "data": {
            "text/plain": [
              "<Figure size 600x400 with 1 Axes>"
            ],
            "image/png": "[encoded data removed]"
          },
          "metadata": {}
        }
      ]
    },
    {
      "cell_type": "code",
      "metadata": {
        "colab": {
          "base_uri": "https://localhost:8080/",
          "height": 504
        },
        "id": "3iZTVn5WQFpX",
        "outputId": "1fd0ba73-9c1a-437b-89e6-cd5ce6881cd5"
      },
      "source": [
        "del model\n",
        "model = NeuralNet(tr_set.dataset.dim).to(device)\n",
        "ckpt = torch.load(config['save_path'], map_location='cpu')  # Load your best model\n",
        "model.load_state_dict(ckpt)\n",
        "plot_pred(dv_set, model, device)  # Show prediction on the validation set"
      ],
      "execution_count": 226,
      "outputs": [
        {
          "output_type": "stream",
          "name": "stdout",
          "text": [
            "47\n"
          ]
        },
        {
          "output_type": "display_data",
          "data": {
            "text/plain": [
              "<Figure size 500x500 with 1 Axes>"
            ],
            "image/png": "[encoded data removed]"
          },
          "metadata": {}
        }
      ]
    },
    {
      "cell_type": "markdown",
      "metadata": {
        "id": "aQikz3IPiyPf"
      },
      "source": [
        "# **Testing**\n",
        "The predictions of your model on testing set will be stored at `pred.csv`."
      ]
    },
    {
      "cell_type": "code",
      "metadata": {
        "colab": {
          "base_uri": "https://localhost:8080/"
        },
        "id": "O8cTuQjQQOon",
        "outputId": "90e66a43-9b23-4f74-a8f0-9904345265c7"
      },
      "source": [
        "def save_pred(preds, file):\n",
        "    ''' Save predictions to specified file '''\n",
        "    print('Saving results to {}'.format(file))\n",
        "    with open(file, 'w') as fp:\n",
        "        writer = csv.writer(fp)\n",
        "        writer.writerow(['id', 'tested_positive'])\n",
        "        for i, p in enumerate(preds):\n",
        "            writer.writerow([i, p])\n",
        "\n",
        "preds = test(tt_set, model, device)  # predict COVID-19 cases with your model\n",
        "save_pred(preds, 'pred.csv')         # save prediction file to pred.csv"
      ],
      "execution_count": 227,
      "outputs": [
        {
          "output_type": "stream",
          "name": "stdout",
          "text": [
            "Saving results to pred.csv\n"
          ]
        }
      ]
    },
    {
      "cell_type": "markdown",
      "metadata": {
        "id": "nfrVxqJanGpE"
      },
      "source": [
        "# **Hints**\n",
        "\n",
        "## **Simple Baseline**\n",
        "* Run sample code\n",
        "\n",
        "## **Medium Baseline**\n",
        "* Feature selection: 40 states + 2 `tested_positive` (`TODO` in dataset)\n",
        "\n",
        "## **Strong Baseline**\n",
        "* Feature selection (what other features are useful?)\n",
        "* DNN architecture (layers? dimension? activation function?)\n",
        "* Training (mini-batch? optimizer? learning rate?)\n",
        "* L2 regularization\n",
        "* There are some mistakes in the sample code, can you find them?"
      ]
    },
    {
      "cell_type": "markdown",
      "metadata": {
        "id": "9tmCwXgpot3t"
      },
      "source": [
        "# **Reference**\n",
        "This code is completely written by Heng-Jui Chang @ NTUEE.  \n",
        "Copying or reusing this code is required to specify the original author.\n",
        "\n",
        "E.g.  \n",
        "Source: Heng-Jui Chang @ NTUEE (https://github.com/ga642381/ML2021-Spring/blob/main/HW01/HW01.ipynb)\n"
      ]
    }
  ]
}